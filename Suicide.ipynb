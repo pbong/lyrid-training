{
 "cells": [
  {
   "cell_type": "markdown",
   "metadata": {},
   "source": [
    "<h1>Suicide Dataset</h1>\n",
    "<br>\n"
   ]
  },
  {
   "cell_type": "code",
   "execution_count": 359,
   "metadata": {},
   "outputs": [],
   "source": [
    "#import necessary libraries for data preparation, data analysis, and data visualizations\n",
    "\n",
    "#libraries for data preparation and data analysis\n",
    "import pandas as pd\n",
    "import numpy as np\n",
    "\n",
    "#libraries for data visualizations\n",
    "import os\n",
    "import seaborn as sns\n",
    "import matplotlib.pyplot as plt\n",
    "%matplotlib inline\n"
   ]
  },
  {
   "cell_type": "markdown",
   "metadata": {},
   "source": [
    "<h2>Data Preparation</h2>"
   ]
  },
  {
   "cell_type": "markdown",
   "metadata": {},
   "source": [
    "Dataframes are used as to load, run and represent the contents of csv files. "
   ]
  },
  {
   "cell_type": "code",
   "execution_count": 360,
   "metadata": {},
   "outputs": [
    {
     "data": {
      "text/html": [
       "<div>\n",
       "<style scoped>\n",
       "    .dataframe tbody tr th:only-of-type {\n",
       "        vertical-align: middle;\n",
       "    }\n",
       "\n",
       "    .dataframe tbody tr th {\n",
       "        vertical-align: top;\n",
       "    }\n",
       "\n",
       "    .dataframe thead th {\n",
       "        text-align: right;\n",
       "    }\n",
       "</style>\n",
       "<table border=\"1\" class=\"dataframe\">\n",
       "  <thead>\n",
       "    <tr style=\"text-align: right;\">\n",
       "      <th></th>\n",
       "      <th>country</th>\n",
       "      <th>year</th>\n",
       "      <th>sex</th>\n",
       "      <th>age</th>\n",
       "      <th>suicides_no</th>\n",
       "      <th>population</th>\n",
       "      <th>suicides/100k pop</th>\n",
       "      <th>country-year</th>\n",
       "      <th>HDI for year</th>\n",
       "      <th>gdp_for_year ($)</th>\n",
       "      <th>gdp_per_capita ($)</th>\n",
       "      <th>generation</th>\n",
       "    </tr>\n",
       "  </thead>\n",
       "  <tbody>\n",
       "    <tr>\n",
       "      <td>0</td>\n",
       "      <td>Albania</td>\n",
       "      <td>1987</td>\n",
       "      <td>male</td>\n",
       "      <td>15-24 years</td>\n",
       "      <td>21</td>\n",
       "      <td>312900</td>\n",
       "      <td>6.71</td>\n",
       "      <td>Albania1987</td>\n",
       "      <td>NaN</td>\n",
       "      <td>2,156,624,900</td>\n",
       "      <td>796</td>\n",
       "      <td>Generation X</td>\n",
       "    </tr>\n",
       "    <tr>\n",
       "      <td>1</td>\n",
       "      <td>Albania</td>\n",
       "      <td>1987</td>\n",
       "      <td>male</td>\n",
       "      <td>35-54 years</td>\n",
       "      <td>16</td>\n",
       "      <td>308000</td>\n",
       "      <td>5.19</td>\n",
       "      <td>Albania1987</td>\n",
       "      <td>NaN</td>\n",
       "      <td>2,156,624,900</td>\n",
       "      <td>796</td>\n",
       "      <td>Silent</td>\n",
       "    </tr>\n",
       "    <tr>\n",
       "      <td>2</td>\n",
       "      <td>Albania</td>\n",
       "      <td>1987</td>\n",
       "      <td>female</td>\n",
       "      <td>15-24 years</td>\n",
       "      <td>14</td>\n",
       "      <td>289700</td>\n",
       "      <td>4.83</td>\n",
       "      <td>Albania1987</td>\n",
       "      <td>NaN</td>\n",
       "      <td>2,156,624,900</td>\n",
       "      <td>796</td>\n",
       "      <td>Generation X</td>\n",
       "    </tr>\n",
       "    <tr>\n",
       "      <td>3</td>\n",
       "      <td>Albania</td>\n",
       "      <td>1987</td>\n",
       "      <td>male</td>\n",
       "      <td>75+ years</td>\n",
       "      <td>1</td>\n",
       "      <td>21800</td>\n",
       "      <td>4.59</td>\n",
       "      <td>Albania1987</td>\n",
       "      <td>NaN</td>\n",
       "      <td>2,156,624,900</td>\n",
       "      <td>796</td>\n",
       "      <td>G.I. Generation</td>\n",
       "    </tr>\n",
       "    <tr>\n",
       "      <td>4</td>\n",
       "      <td>Albania</td>\n",
       "      <td>1987</td>\n",
       "      <td>male</td>\n",
       "      <td>25-34 years</td>\n",
       "      <td>9</td>\n",
       "      <td>274300</td>\n",
       "      <td>3.28</td>\n",
       "      <td>Albania1987</td>\n",
       "      <td>NaN</td>\n",
       "      <td>2,156,624,900</td>\n",
       "      <td>796</td>\n",
       "      <td>Boomers</td>\n",
       "    </tr>\n",
       "    <tr>\n",
       "      <td>5</td>\n",
       "      <td>Albania</td>\n",
       "      <td>1987</td>\n",
       "      <td>female</td>\n",
       "      <td>75+ years</td>\n",
       "      <td>1</td>\n",
       "      <td>35600</td>\n",
       "      <td>2.81</td>\n",
       "      <td>Albania1987</td>\n",
       "      <td>NaN</td>\n",
       "      <td>2,156,624,900</td>\n",
       "      <td>796</td>\n",
       "      <td>G.I. Generation</td>\n",
       "    </tr>\n",
       "    <tr>\n",
       "      <td>6</td>\n",
       "      <td>Albania</td>\n",
       "      <td>1987</td>\n",
       "      <td>female</td>\n",
       "      <td>35-54 years</td>\n",
       "      <td>6</td>\n",
       "      <td>278800</td>\n",
       "      <td>2.15</td>\n",
       "      <td>Albania1987</td>\n",
       "      <td>NaN</td>\n",
       "      <td>2,156,624,900</td>\n",
       "      <td>796</td>\n",
       "      <td>Silent</td>\n",
       "    </tr>\n",
       "    <tr>\n",
       "      <td>7</td>\n",
       "      <td>Albania</td>\n",
       "      <td>1987</td>\n",
       "      <td>female</td>\n",
       "      <td>25-34 years</td>\n",
       "      <td>4</td>\n",
       "      <td>257200</td>\n",
       "      <td>1.56</td>\n",
       "      <td>Albania1987</td>\n",
       "      <td>NaN</td>\n",
       "      <td>2,156,624,900</td>\n",
       "      <td>796</td>\n",
       "      <td>Boomers</td>\n",
       "    </tr>\n",
       "    <tr>\n",
       "      <td>8</td>\n",
       "      <td>Albania</td>\n",
       "      <td>1987</td>\n",
       "      <td>male</td>\n",
       "      <td>55-74 years</td>\n",
       "      <td>1</td>\n",
       "      <td>137500</td>\n",
       "      <td>0.73</td>\n",
       "      <td>Albania1987</td>\n",
       "      <td>NaN</td>\n",
       "      <td>2,156,624,900</td>\n",
       "      <td>796</td>\n",
       "      <td>G.I. Generation</td>\n",
       "    </tr>\n",
       "    <tr>\n",
       "      <td>9</td>\n",
       "      <td>Albania</td>\n",
       "      <td>1987</td>\n",
       "      <td>female</td>\n",
       "      <td>5-14 years</td>\n",
       "      <td>0</td>\n",
       "      <td>311000</td>\n",
       "      <td>0.00</td>\n",
       "      <td>Albania1987</td>\n",
       "      <td>NaN</td>\n",
       "      <td>2,156,624,900</td>\n",
       "      <td>796</td>\n",
       "      <td>Generation X</td>\n",
       "    </tr>\n",
       "  </tbody>\n",
       "</table>\n",
       "</div>"
      ],
      "text/plain": [
       "   country  year     sex          age  suicides_no  population  \\\n",
       "0  Albania  1987    male  15-24 years           21      312900   \n",
       "1  Albania  1987    male  35-54 years           16      308000   \n",
       "2  Albania  1987  female  15-24 years           14      289700   \n",
       "3  Albania  1987    male    75+ years            1       21800   \n",
       "4  Albania  1987    male  25-34 years            9      274300   \n",
       "5  Albania  1987  female    75+ years            1       35600   \n",
       "6  Albania  1987  female  35-54 years            6      278800   \n",
       "7  Albania  1987  female  25-34 years            4      257200   \n",
       "8  Albania  1987    male  55-74 years            1      137500   \n",
       "9  Albania  1987  female   5-14 years            0      311000   \n",
       "\n",
       "   suicides/100k pop country-year  HDI for year  gdp_for_year ($)   \\\n",
       "0               6.71  Albania1987           NaN      2,156,624,900   \n",
       "1               5.19  Albania1987           NaN      2,156,624,900   \n",
       "2               4.83  Albania1987           NaN      2,156,624,900   \n",
       "3               4.59  Albania1987           NaN      2,156,624,900   \n",
       "4               3.28  Albania1987           NaN      2,156,624,900   \n",
       "5               2.81  Albania1987           NaN      2,156,624,900   \n",
       "6               2.15  Albania1987           NaN      2,156,624,900   \n",
       "7               1.56  Albania1987           NaN      2,156,624,900   \n",
       "8               0.73  Albania1987           NaN      2,156,624,900   \n",
       "9               0.00  Albania1987           NaN      2,156,624,900   \n",
       "\n",
       "   gdp_per_capita ($)       generation  \n",
       "0                 796     Generation X  \n",
       "1                 796           Silent  \n",
       "2                 796     Generation X  \n",
       "3                 796  G.I. Generation  \n",
       "4                 796          Boomers  \n",
       "5                 796  G.I. Generation  \n",
       "6                 796           Silent  \n",
       "7                 796          Boomers  \n",
       "8                 796  G.I. Generation  \n",
       "9                 796     Generation X  "
      ]
     },
     "execution_count": 360,
     "metadata": {},
     "output_type": "execute_result"
    }
   ],
   "source": [
    "#data frame to read csv file \n",
    "suicide_df = pd.read_csv(\"master.csv\")\n",
    "\n",
    "#displays the first 10 data of the dataset\n",
    "suicide_df.head(10)"
   ]
  },
  {
   "cell_type": "code",
   "execution_count": 361,
   "metadata": {},
   "outputs": [
    {
     "data": {
      "text/html": [
       "<div>\n",
       "<style scoped>\n",
       "    .dataframe tbody tr th:only-of-type {\n",
       "        vertical-align: middle;\n",
       "    }\n",
       "\n",
       "    .dataframe tbody tr th {\n",
       "        vertical-align: top;\n",
       "    }\n",
       "\n",
       "    .dataframe thead th {\n",
       "        text-align: right;\n",
       "    }\n",
       "</style>\n",
       "<table border=\"1\" class=\"dataframe\">\n",
       "  <thead>\n",
       "    <tr style=\"text-align: right;\">\n",
       "      <th></th>\n",
       "      <th>country</th>\n",
       "      <th>year</th>\n",
       "      <th>sex</th>\n",
       "      <th>age</th>\n",
       "      <th>suicides_no</th>\n",
       "      <th>population</th>\n",
       "      <th>suicides/100k pop</th>\n",
       "      <th>country-year</th>\n",
       "      <th>HDI for year</th>\n",
       "      <th>gdp_for_year ($)</th>\n",
       "      <th>gdp_per_capita ($)</th>\n",
       "      <th>generation</th>\n",
       "    </tr>\n",
       "  </thead>\n",
       "  <tbody>\n",
       "    <tr>\n",
       "      <td>27810</td>\n",
       "      <td>Uzbekistan</td>\n",
       "      <td>2014</td>\n",
       "      <td>female</td>\n",
       "      <td>15-24 years</td>\n",
       "      <td>347</td>\n",
       "      <td>2992817</td>\n",
       "      <td>11.59</td>\n",
       "      <td>Uzbekistan2014</td>\n",
       "      <td>0.675</td>\n",
       "      <td>63,067,077,179</td>\n",
       "      <td>2309</td>\n",
       "      <td>Millenials</td>\n",
       "    </tr>\n",
       "    <tr>\n",
       "      <td>27811</td>\n",
       "      <td>Uzbekistan</td>\n",
       "      <td>2014</td>\n",
       "      <td>male</td>\n",
       "      <td>55-74 years</td>\n",
       "      <td>144</td>\n",
       "      <td>1271111</td>\n",
       "      <td>11.33</td>\n",
       "      <td>Uzbekistan2014</td>\n",
       "      <td>0.675</td>\n",
       "      <td>63,067,077,179</td>\n",
       "      <td>2309</td>\n",
       "      <td>Boomers</td>\n",
       "    </tr>\n",
       "    <tr>\n",
       "      <td>27812</td>\n",
       "      <td>Uzbekistan</td>\n",
       "      <td>2014</td>\n",
       "      <td>male</td>\n",
       "      <td>15-24 years</td>\n",
       "      <td>347</td>\n",
       "      <td>3126905</td>\n",
       "      <td>11.10</td>\n",
       "      <td>Uzbekistan2014</td>\n",
       "      <td>0.675</td>\n",
       "      <td>63,067,077,179</td>\n",
       "      <td>2309</td>\n",
       "      <td>Millenials</td>\n",
       "    </tr>\n",
       "    <tr>\n",
       "      <td>27813</td>\n",
       "      <td>Uzbekistan</td>\n",
       "      <td>2014</td>\n",
       "      <td>male</td>\n",
       "      <td>75+ years</td>\n",
       "      <td>17</td>\n",
       "      <td>224995</td>\n",
       "      <td>7.56</td>\n",
       "      <td>Uzbekistan2014</td>\n",
       "      <td>0.675</td>\n",
       "      <td>63,067,077,179</td>\n",
       "      <td>2309</td>\n",
       "      <td>Silent</td>\n",
       "    </tr>\n",
       "    <tr>\n",
       "      <td>27814</td>\n",
       "      <td>Uzbekistan</td>\n",
       "      <td>2014</td>\n",
       "      <td>female</td>\n",
       "      <td>25-34 years</td>\n",
       "      <td>162</td>\n",
       "      <td>2735238</td>\n",
       "      <td>5.92</td>\n",
       "      <td>Uzbekistan2014</td>\n",
       "      <td>0.675</td>\n",
       "      <td>63,067,077,179</td>\n",
       "      <td>2309</td>\n",
       "      <td>Millenials</td>\n",
       "    </tr>\n",
       "    <tr>\n",
       "      <td>27815</td>\n",
       "      <td>Uzbekistan</td>\n",
       "      <td>2014</td>\n",
       "      <td>female</td>\n",
       "      <td>35-54 years</td>\n",
       "      <td>107</td>\n",
       "      <td>3620833</td>\n",
       "      <td>2.96</td>\n",
       "      <td>Uzbekistan2014</td>\n",
       "      <td>0.675</td>\n",
       "      <td>63,067,077,179</td>\n",
       "      <td>2309</td>\n",
       "      <td>Generation X</td>\n",
       "    </tr>\n",
       "    <tr>\n",
       "      <td>27816</td>\n",
       "      <td>Uzbekistan</td>\n",
       "      <td>2014</td>\n",
       "      <td>female</td>\n",
       "      <td>75+ years</td>\n",
       "      <td>9</td>\n",
       "      <td>348465</td>\n",
       "      <td>2.58</td>\n",
       "      <td>Uzbekistan2014</td>\n",
       "      <td>0.675</td>\n",
       "      <td>63,067,077,179</td>\n",
       "      <td>2309</td>\n",
       "      <td>Silent</td>\n",
       "    </tr>\n",
       "    <tr>\n",
       "      <td>27817</td>\n",
       "      <td>Uzbekistan</td>\n",
       "      <td>2014</td>\n",
       "      <td>male</td>\n",
       "      <td>5-14 years</td>\n",
       "      <td>60</td>\n",
       "      <td>2762158</td>\n",
       "      <td>2.17</td>\n",
       "      <td>Uzbekistan2014</td>\n",
       "      <td>0.675</td>\n",
       "      <td>63,067,077,179</td>\n",
       "      <td>2309</td>\n",
       "      <td>Generation Z</td>\n",
       "    </tr>\n",
       "    <tr>\n",
       "      <td>27818</td>\n",
       "      <td>Uzbekistan</td>\n",
       "      <td>2014</td>\n",
       "      <td>female</td>\n",
       "      <td>5-14 years</td>\n",
       "      <td>44</td>\n",
       "      <td>2631600</td>\n",
       "      <td>1.67</td>\n",
       "      <td>Uzbekistan2014</td>\n",
       "      <td>0.675</td>\n",
       "      <td>63,067,077,179</td>\n",
       "      <td>2309</td>\n",
       "      <td>Generation Z</td>\n",
       "    </tr>\n",
       "    <tr>\n",
       "      <td>27819</td>\n",
       "      <td>Uzbekistan</td>\n",
       "      <td>2014</td>\n",
       "      <td>female</td>\n",
       "      <td>55-74 years</td>\n",
       "      <td>21</td>\n",
       "      <td>1438935</td>\n",
       "      <td>1.46</td>\n",
       "      <td>Uzbekistan2014</td>\n",
       "      <td>0.675</td>\n",
       "      <td>63,067,077,179</td>\n",
       "      <td>2309</td>\n",
       "      <td>Boomers</td>\n",
       "    </tr>\n",
       "  </tbody>\n",
       "</table>\n",
       "</div>"
      ],
      "text/plain": [
       "          country  year     sex          age  suicides_no  population  \\\n",
       "27810  Uzbekistan  2014  female  15-24 years          347     2992817   \n",
       "27811  Uzbekistan  2014    male  55-74 years          144     1271111   \n",
       "27812  Uzbekistan  2014    male  15-24 years          347     3126905   \n",
       "27813  Uzbekistan  2014    male    75+ years           17      224995   \n",
       "27814  Uzbekistan  2014  female  25-34 years          162     2735238   \n",
       "27815  Uzbekistan  2014  female  35-54 years          107     3620833   \n",
       "27816  Uzbekistan  2014  female    75+ years            9      348465   \n",
       "27817  Uzbekistan  2014    male   5-14 years           60     2762158   \n",
       "27818  Uzbekistan  2014  female   5-14 years           44     2631600   \n",
       "27819  Uzbekistan  2014  female  55-74 years           21     1438935   \n",
       "\n",
       "       suicides/100k pop    country-year  HDI for year  gdp_for_year ($)   \\\n",
       "27810              11.59  Uzbekistan2014         0.675     63,067,077,179   \n",
       "27811              11.33  Uzbekistan2014         0.675     63,067,077,179   \n",
       "27812              11.10  Uzbekistan2014         0.675     63,067,077,179   \n",
       "27813               7.56  Uzbekistan2014         0.675     63,067,077,179   \n",
       "27814               5.92  Uzbekistan2014         0.675     63,067,077,179   \n",
       "27815               2.96  Uzbekistan2014         0.675     63,067,077,179   \n",
       "27816               2.58  Uzbekistan2014         0.675     63,067,077,179   \n",
       "27817               2.17  Uzbekistan2014         0.675     63,067,077,179   \n",
       "27818               1.67  Uzbekistan2014         0.675     63,067,077,179   \n",
       "27819               1.46  Uzbekistan2014         0.675     63,067,077,179   \n",
       "\n",
       "       gdp_per_capita ($)    generation  \n",
       "27810                2309    Millenials  \n",
       "27811                2309       Boomers  \n",
       "27812                2309    Millenials  \n",
       "27813                2309        Silent  \n",
       "27814                2309    Millenials  \n",
       "27815                2309  Generation X  \n",
       "27816                2309        Silent  \n",
       "27817                2309  Generation Z  \n",
       "27818                2309  Generation Z  \n",
       "27819                2309       Boomers  "
      ]
     },
     "execution_count": 361,
     "metadata": {},
     "output_type": "execute_result"
    }
   ],
   "source": [
    "#displays the last 10 data of the dataset\n",
    "suicide_df.tail(10)"
   ]
  },
  {
   "cell_type": "code",
   "execution_count": 362,
   "metadata": {},
   "outputs": [
    {
     "name": "stdout",
     "output_type": "stream",
     "text": [
      "<class 'pandas.core.frame.DataFrame'>\n",
      "RangeIndex: 27820 entries, 0 to 27819\n",
      "Data columns (total 12 columns):\n",
      "country               27820 non-null object\n",
      "year                  27820 non-null int64\n",
      "sex                   27820 non-null object\n",
      "age                   27820 non-null object\n",
      "suicides_no           27820 non-null int64\n",
      "population            27820 non-null int64\n",
      "suicides/100k pop     27820 non-null float64\n",
      "country-year          27820 non-null object\n",
      "HDI for year          8364 non-null float64\n",
      " gdp_for_year ($)     27820 non-null object\n",
      "gdp_per_capita ($)    27820 non-null int64\n",
      "generation            27820 non-null object\n",
      "dtypes: float64(2), int64(4), object(6)\n",
      "memory usage: 2.5+ MB\n"
     ]
    }
   ],
   "source": [
    "#checks the information of the dataframe including the data type of the index and columns, non-null values, and memory usage\n",
    "suicide_df.info()"
   ]
  },
  {
   "cell_type": "markdown",
   "metadata": {},
   "source": [
    "<h2>Data Cleaning</h2>\n",
    "\n",
    "After observing the data, we can proceed to the following:\n",
    "\n",
    "<br>\n",
    "<b>Renaming of Data/Changing of Data type</b>\n",
    "<br>\n",
    "Renaming the names or data type of the columns and the representation of some data for consistency and convenience"
   ]
  },
  {
   "cell_type": "code",
   "execution_count": 363,
   "metadata": {},
   "outputs": [
    {
     "name": "stdout",
     "output_type": "stream",
     "text": [
      "<class 'pandas.core.frame.DataFrame'>\n",
      "RangeIndex: 27820 entries, 0 to 27819\n",
      "Data columns (total 12 columns):\n",
      "country                      27820 non-null object\n",
      "year                         27820 non-null int64\n",
      "sex                          27820 non-null object\n",
      "age                          27820 non-null object\n",
      "suicides_no                  27820 non-null int64\n",
      "population                   27820 non-null int64\n",
      "suicides_rate                27820 non-null float64\n",
      "country-year                 27820 non-null object\n",
      "HDI for year                 8364 non-null float64\n",
      "gdp_for_year_in_dollars      27820 non-null object\n",
      "gdp_per_capita_in_dollars    27820 non-null int64\n",
      "generation                   27820 non-null object\n",
      "dtypes: float64(2), int64(4), object(6)\n",
      "memory usage: 2.5+ MB\n"
     ]
    }
   ],
   "source": [
    "#renaming the column names for consistency and convenience\n",
    "suicide_df = suicide_df.rename(columns={' gdp_for_year ($) ': 'gdp_for_year_in_dollars', \n",
    "                                        'gdp_per_capita ($)': 'gdp_per_capita_in_dollars', \n",
    "                                        'suicides/100k pop': 'suicides_rate'})\n",
    "\n",
    "#checking whether the column names were successfully renamed\n",
    "suicide_df.info()"
   ]
  },
  {
   "cell_type": "markdown",
   "metadata": {},
   "source": [
    "here, we see that the columns names were successfully renamed"
   ]
  },
  {
   "cell_type": "code",
   "execution_count": 364,
   "metadata": {},
   "outputs": [
    {
     "data": {
      "text/html": [
       "<div>\n",
       "<style scoped>\n",
       "    .dataframe tbody tr th:only-of-type {\n",
       "        vertical-align: middle;\n",
       "    }\n",
       "\n",
       "    .dataframe tbody tr th {\n",
       "        vertical-align: top;\n",
       "    }\n",
       "\n",
       "    .dataframe thead th {\n",
       "        text-align: right;\n",
       "    }\n",
       "</style>\n",
       "<table border=\"1\" class=\"dataframe\">\n",
       "  <thead>\n",
       "    <tr style=\"text-align: right;\">\n",
       "      <th></th>\n",
       "      <th>country</th>\n",
       "      <th>year</th>\n",
       "      <th>sex</th>\n",
       "      <th>age</th>\n",
       "      <th>suicides_no</th>\n",
       "      <th>population</th>\n",
       "      <th>suicides_rate</th>\n",
       "      <th>country-year</th>\n",
       "      <th>HDI for year</th>\n",
       "      <th>gdp_for_year_in_dollars</th>\n",
       "      <th>gdp_per_capita_in_dollars</th>\n",
       "      <th>generation</th>\n",
       "    </tr>\n",
       "  </thead>\n",
       "  <tbody>\n",
       "    <tr>\n",
       "      <td>0</td>\n",
       "      <td>Albania</td>\n",
       "      <td>1987</td>\n",
       "      <td>male</td>\n",
       "      <td>15-24 years</td>\n",
       "      <td>21</td>\n",
       "      <td>312900</td>\n",
       "      <td>6.71</td>\n",
       "      <td>Albania1987</td>\n",
       "      <td>NaN</td>\n",
       "      <td>2,156,624,900</td>\n",
       "      <td>796</td>\n",
       "      <td>Generation X</td>\n",
       "    </tr>\n",
       "    <tr>\n",
       "      <td>1</td>\n",
       "      <td>Albania</td>\n",
       "      <td>1987</td>\n",
       "      <td>male</td>\n",
       "      <td>35-54 years</td>\n",
       "      <td>16</td>\n",
       "      <td>308000</td>\n",
       "      <td>5.19</td>\n",
       "      <td>Albania1987</td>\n",
       "      <td>NaN</td>\n",
       "      <td>2,156,624,900</td>\n",
       "      <td>796</td>\n",
       "      <td>Silent</td>\n",
       "    </tr>\n",
       "    <tr>\n",
       "      <td>2</td>\n",
       "      <td>Albania</td>\n",
       "      <td>1987</td>\n",
       "      <td>female</td>\n",
       "      <td>15-24 years</td>\n",
       "      <td>14</td>\n",
       "      <td>289700</td>\n",
       "      <td>4.83</td>\n",
       "      <td>Albania1987</td>\n",
       "      <td>NaN</td>\n",
       "      <td>2,156,624,900</td>\n",
       "      <td>796</td>\n",
       "      <td>Generation X</td>\n",
       "    </tr>\n",
       "    <tr>\n",
       "      <td>3</td>\n",
       "      <td>Albania</td>\n",
       "      <td>1987</td>\n",
       "      <td>male</td>\n",
       "      <td>75+ years</td>\n",
       "      <td>1</td>\n",
       "      <td>21800</td>\n",
       "      <td>4.59</td>\n",
       "      <td>Albania1987</td>\n",
       "      <td>NaN</td>\n",
       "      <td>2,156,624,900</td>\n",
       "      <td>796</td>\n",
       "      <td>G.I. Generation</td>\n",
       "    </tr>\n",
       "    <tr>\n",
       "      <td>4</td>\n",
       "      <td>Albania</td>\n",
       "      <td>1987</td>\n",
       "      <td>male</td>\n",
       "      <td>25-34 years</td>\n",
       "      <td>9</td>\n",
       "      <td>274300</td>\n",
       "      <td>3.28</td>\n",
       "      <td>Albania1987</td>\n",
       "      <td>NaN</td>\n",
       "      <td>2,156,624,900</td>\n",
       "      <td>796</td>\n",
       "      <td>Boomers</td>\n",
       "    </tr>\n",
       "    <tr>\n",
       "      <td>5</td>\n",
       "      <td>Albania</td>\n",
       "      <td>1987</td>\n",
       "      <td>female</td>\n",
       "      <td>75+ years</td>\n",
       "      <td>1</td>\n",
       "      <td>35600</td>\n",
       "      <td>2.81</td>\n",
       "      <td>Albania1987</td>\n",
       "      <td>NaN</td>\n",
       "      <td>2,156,624,900</td>\n",
       "      <td>796</td>\n",
       "      <td>G.I. Generation</td>\n",
       "    </tr>\n",
       "    <tr>\n",
       "      <td>6</td>\n",
       "      <td>Albania</td>\n",
       "      <td>1987</td>\n",
       "      <td>female</td>\n",
       "      <td>35-54 years</td>\n",
       "      <td>6</td>\n",
       "      <td>278800</td>\n",
       "      <td>2.15</td>\n",
       "      <td>Albania1987</td>\n",
       "      <td>NaN</td>\n",
       "      <td>2,156,624,900</td>\n",
       "      <td>796</td>\n",
       "      <td>Silent</td>\n",
       "    </tr>\n",
       "    <tr>\n",
       "      <td>7</td>\n",
       "      <td>Albania</td>\n",
       "      <td>1987</td>\n",
       "      <td>female</td>\n",
       "      <td>25-34 years</td>\n",
       "      <td>4</td>\n",
       "      <td>257200</td>\n",
       "      <td>1.56</td>\n",
       "      <td>Albania1987</td>\n",
       "      <td>NaN</td>\n",
       "      <td>2,156,624,900</td>\n",
       "      <td>796</td>\n",
       "      <td>Boomers</td>\n",
       "    </tr>\n",
       "    <tr>\n",
       "      <td>8</td>\n",
       "      <td>Albania</td>\n",
       "      <td>1987</td>\n",
       "      <td>male</td>\n",
       "      <td>55-74 years</td>\n",
       "      <td>1</td>\n",
       "      <td>137500</td>\n",
       "      <td>0.73</td>\n",
       "      <td>Albania1987</td>\n",
       "      <td>NaN</td>\n",
       "      <td>2,156,624,900</td>\n",
       "      <td>796</td>\n",
       "      <td>G.I. Generation</td>\n",
       "    </tr>\n",
       "    <tr>\n",
       "      <td>9</td>\n",
       "      <td>Albania</td>\n",
       "      <td>1987</td>\n",
       "      <td>female</td>\n",
       "      <td>05-14 years</td>\n",
       "      <td>0</td>\n",
       "      <td>311000</td>\n",
       "      <td>0.00</td>\n",
       "      <td>Albania1987</td>\n",
       "      <td>NaN</td>\n",
       "      <td>2,156,624,900</td>\n",
       "      <td>796</td>\n",
       "      <td>Generation X</td>\n",
       "    </tr>\n",
       "  </tbody>\n",
       "</table>\n",
       "</div>"
      ],
      "text/plain": [
       "   country  year     sex          age  suicides_no  population  suicides_rate  \\\n",
       "0  Albania  1987    male  15-24 years           21      312900           6.71   \n",
       "1  Albania  1987    male  35-54 years           16      308000           5.19   \n",
       "2  Albania  1987  female  15-24 years           14      289700           4.83   \n",
       "3  Albania  1987    male    75+ years            1       21800           4.59   \n",
       "4  Albania  1987    male  25-34 years            9      274300           3.28   \n",
       "5  Albania  1987  female    75+ years            1       35600           2.81   \n",
       "6  Albania  1987  female  35-54 years            6      278800           2.15   \n",
       "7  Albania  1987  female  25-34 years            4      257200           1.56   \n",
       "8  Albania  1987    male  55-74 years            1      137500           0.73   \n",
       "9  Albania  1987  female  05-14 years            0      311000           0.00   \n",
       "\n",
       "  country-year  HDI for year gdp_for_year_in_dollars  \\\n",
       "0  Albania1987           NaN           2,156,624,900   \n",
       "1  Albania1987           NaN           2,156,624,900   \n",
       "2  Albania1987           NaN           2,156,624,900   \n",
       "3  Albania1987           NaN           2,156,624,900   \n",
       "4  Albania1987           NaN           2,156,624,900   \n",
       "5  Albania1987           NaN           2,156,624,900   \n",
       "6  Albania1987           NaN           2,156,624,900   \n",
       "7  Albania1987           NaN           2,156,624,900   \n",
       "8  Albania1987           NaN           2,156,624,900   \n",
       "9  Albania1987           NaN           2,156,624,900   \n",
       "\n",
       "   gdp_per_capita_in_dollars       generation  \n",
       "0                        796     Generation X  \n",
       "1                        796           Silent  \n",
       "2                        796     Generation X  \n",
       "3                        796  G.I. Generation  \n",
       "4                        796          Boomers  \n",
       "5                        796  G.I. Generation  \n",
       "6                        796           Silent  \n",
       "7                        796          Boomers  \n",
       "8                        796  G.I. Generation  \n",
       "9                        796     Generation X  "
      ]
     },
     "execution_count": 364,
     "metadata": {},
     "output_type": "execute_result"
    }
   ],
   "source": [
    "#renaming of specific data for convenience for the data to be sorted when needed to be\n",
    "suicide_df['age'] = suicide_df['age'].replace(['5-14 years'], ['05-14 years'])\n",
    "\n",
    "#checking whether the data name were successfully renamed\n",
    "suicide_df.head(10)"
   ]
  },
  {
   "cell_type": "markdown",
   "metadata": {},
   "source": [
    "here, we see that the name of the data was successfuly renamed "
   ]
  },
  {
   "cell_type": "code",
   "execution_count": 365,
   "metadata": {},
   "outputs": [
    {
     "data": {
      "text/html": [
       "<div>\n",
       "<style scoped>\n",
       "    .dataframe tbody tr th:only-of-type {\n",
       "        vertical-align: middle;\n",
       "    }\n",
       "\n",
       "    .dataframe tbody tr th {\n",
       "        vertical-align: top;\n",
       "    }\n",
       "\n",
       "    .dataframe thead th {\n",
       "        text-align: right;\n",
       "    }\n",
       "</style>\n",
       "<table border=\"1\" class=\"dataframe\">\n",
       "  <thead>\n",
       "    <tr style=\"text-align: right;\">\n",
       "      <th></th>\n",
       "      <th>country</th>\n",
       "      <th>year</th>\n",
       "      <th>sex</th>\n",
       "      <th>age</th>\n",
       "      <th>suicides_no</th>\n",
       "      <th>population</th>\n",
       "      <th>suicides_rate</th>\n",
       "      <th>country-year</th>\n",
       "      <th>HDI for year</th>\n",
       "      <th>gdp_for_year_in_dollars</th>\n",
       "      <th>gdp_per_capita_in_dollars</th>\n",
       "      <th>generation</th>\n",
       "    </tr>\n",
       "  </thead>\n",
       "  <tbody>\n",
       "    <tr>\n",
       "      <td>0</td>\n",
       "      <td>Albania</td>\n",
       "      <td>1987</td>\n",
       "      <td>male</td>\n",
       "      <td>15-24 years</td>\n",
       "      <td>21</td>\n",
       "      <td>312900</td>\n",
       "      <td>6.71</td>\n",
       "      <td>Albania1987</td>\n",
       "      <td>NaN</td>\n",
       "      <td>2156624900</td>\n",
       "      <td>796</td>\n",
       "      <td>Generation X</td>\n",
       "    </tr>\n",
       "    <tr>\n",
       "      <td>1</td>\n",
       "      <td>Albania</td>\n",
       "      <td>1987</td>\n",
       "      <td>male</td>\n",
       "      <td>35-54 years</td>\n",
       "      <td>16</td>\n",
       "      <td>308000</td>\n",
       "      <td>5.19</td>\n",
       "      <td>Albania1987</td>\n",
       "      <td>NaN</td>\n",
       "      <td>2156624900</td>\n",
       "      <td>796</td>\n",
       "      <td>Silent</td>\n",
       "    </tr>\n",
       "    <tr>\n",
       "      <td>2</td>\n",
       "      <td>Albania</td>\n",
       "      <td>1987</td>\n",
       "      <td>female</td>\n",
       "      <td>15-24 years</td>\n",
       "      <td>14</td>\n",
       "      <td>289700</td>\n",
       "      <td>4.83</td>\n",
       "      <td>Albania1987</td>\n",
       "      <td>NaN</td>\n",
       "      <td>2156624900</td>\n",
       "      <td>796</td>\n",
       "      <td>Generation X</td>\n",
       "    </tr>\n",
       "    <tr>\n",
       "      <td>3</td>\n",
       "      <td>Albania</td>\n",
       "      <td>1987</td>\n",
       "      <td>male</td>\n",
       "      <td>75+ years</td>\n",
       "      <td>1</td>\n",
       "      <td>21800</td>\n",
       "      <td>4.59</td>\n",
       "      <td>Albania1987</td>\n",
       "      <td>NaN</td>\n",
       "      <td>2156624900</td>\n",
       "      <td>796</td>\n",
       "      <td>G.I. Generation</td>\n",
       "    </tr>\n",
       "    <tr>\n",
       "      <td>4</td>\n",
       "      <td>Albania</td>\n",
       "      <td>1987</td>\n",
       "      <td>male</td>\n",
       "      <td>25-34 years</td>\n",
       "      <td>9</td>\n",
       "      <td>274300</td>\n",
       "      <td>3.28</td>\n",
       "      <td>Albania1987</td>\n",
       "      <td>NaN</td>\n",
       "      <td>2156624900</td>\n",
       "      <td>796</td>\n",
       "      <td>Boomers</td>\n",
       "    </tr>\n",
       "    <tr>\n",
       "      <td>5</td>\n",
       "      <td>Albania</td>\n",
       "      <td>1987</td>\n",
       "      <td>female</td>\n",
       "      <td>75+ years</td>\n",
       "      <td>1</td>\n",
       "      <td>35600</td>\n",
       "      <td>2.81</td>\n",
       "      <td>Albania1987</td>\n",
       "      <td>NaN</td>\n",
       "      <td>2156624900</td>\n",
       "      <td>796</td>\n",
       "      <td>G.I. Generation</td>\n",
       "    </tr>\n",
       "    <tr>\n",
       "      <td>6</td>\n",
       "      <td>Albania</td>\n",
       "      <td>1987</td>\n",
       "      <td>female</td>\n",
       "      <td>35-54 years</td>\n",
       "      <td>6</td>\n",
       "      <td>278800</td>\n",
       "      <td>2.15</td>\n",
       "      <td>Albania1987</td>\n",
       "      <td>NaN</td>\n",
       "      <td>2156624900</td>\n",
       "      <td>796</td>\n",
       "      <td>Silent</td>\n",
       "    </tr>\n",
       "    <tr>\n",
       "      <td>7</td>\n",
       "      <td>Albania</td>\n",
       "      <td>1987</td>\n",
       "      <td>female</td>\n",
       "      <td>25-34 years</td>\n",
       "      <td>4</td>\n",
       "      <td>257200</td>\n",
       "      <td>1.56</td>\n",
       "      <td>Albania1987</td>\n",
       "      <td>NaN</td>\n",
       "      <td>2156624900</td>\n",
       "      <td>796</td>\n",
       "      <td>Boomers</td>\n",
       "    </tr>\n",
       "    <tr>\n",
       "      <td>8</td>\n",
       "      <td>Albania</td>\n",
       "      <td>1987</td>\n",
       "      <td>male</td>\n",
       "      <td>55-74 years</td>\n",
       "      <td>1</td>\n",
       "      <td>137500</td>\n",
       "      <td>0.73</td>\n",
       "      <td>Albania1987</td>\n",
       "      <td>NaN</td>\n",
       "      <td>2156624900</td>\n",
       "      <td>796</td>\n",
       "      <td>G.I. Generation</td>\n",
       "    </tr>\n",
       "    <tr>\n",
       "      <td>9</td>\n",
       "      <td>Albania</td>\n",
       "      <td>1987</td>\n",
       "      <td>female</td>\n",
       "      <td>05-14 years</td>\n",
       "      <td>0</td>\n",
       "      <td>311000</td>\n",
       "      <td>0.00</td>\n",
       "      <td>Albania1987</td>\n",
       "      <td>NaN</td>\n",
       "      <td>2156624900</td>\n",
       "      <td>796</td>\n",
       "      <td>Generation X</td>\n",
       "    </tr>\n",
       "  </tbody>\n",
       "</table>\n",
       "</div>"
      ],
      "text/plain": [
       "   country  year     sex          age  suicides_no  population  suicides_rate  \\\n",
       "0  Albania  1987    male  15-24 years           21      312900           6.71   \n",
       "1  Albania  1987    male  35-54 years           16      308000           5.19   \n",
       "2  Albania  1987  female  15-24 years           14      289700           4.83   \n",
       "3  Albania  1987    male    75+ years            1       21800           4.59   \n",
       "4  Albania  1987    male  25-34 years            9      274300           3.28   \n",
       "5  Albania  1987  female    75+ years            1       35600           2.81   \n",
       "6  Albania  1987  female  35-54 years            6      278800           2.15   \n",
       "7  Albania  1987  female  25-34 years            4      257200           1.56   \n",
       "8  Albania  1987    male  55-74 years            1      137500           0.73   \n",
       "9  Albania  1987  female  05-14 years            0      311000           0.00   \n",
       "\n",
       "  country-year  HDI for year  gdp_for_year_in_dollars  \\\n",
       "0  Albania1987           NaN               2156624900   \n",
       "1  Albania1987           NaN               2156624900   \n",
       "2  Albania1987           NaN               2156624900   \n",
       "3  Albania1987           NaN               2156624900   \n",
       "4  Albania1987           NaN               2156624900   \n",
       "5  Albania1987           NaN               2156624900   \n",
       "6  Albania1987           NaN               2156624900   \n",
       "7  Albania1987           NaN               2156624900   \n",
       "8  Albania1987           NaN               2156624900   \n",
       "9  Albania1987           NaN               2156624900   \n",
       "\n",
       "   gdp_per_capita_in_dollars       generation  \n",
       "0                        796     Generation X  \n",
       "1                        796           Silent  \n",
       "2                        796     Generation X  \n",
       "3                        796  G.I. Generation  \n",
       "4                        796          Boomers  \n",
       "5                        796  G.I. Generation  \n",
       "6                        796           Silent  \n",
       "7                        796          Boomers  \n",
       "8                        796  G.I. Generation  \n",
       "9                        796     Generation X  "
      ]
     },
     "execution_count": 365,
     "metadata": {},
     "output_type": "execute_result"
    }
   ],
   "source": [
    "#changing the datatype for a certain column\n",
    "suicide_df[\"gdp_for_year_in_dollars\"] = suicide_df[\"gdp_for_year_in_dollars\"].str.replace(\",\",\"\").astype(np.int64)\n",
    "\n",
    "#checking whether the data type were successfully changed\n",
    "suicide_df.head(10)"
   ]
  },
  {
   "cell_type": "markdown",
   "metadata": {},
   "source": [
    "here, we see that the data type was successfuly renamed "
   ]
  },
  {
   "cell_type": "markdown",
   "metadata": {},
   "source": [
    "<b>Checking of duplicates</b>\n",
    "<br>\n",
    "In order to avoid any duplicated copy of data, we remove them from being part of the data analysis so that the information we gather can be more accurate"
   ]
  },
  {
   "cell_type": "code",
   "execution_count": 366,
   "metadata": {},
   "outputs": [
    {
     "data": {
      "text/plain": [
       "(27820, 12)"
      ]
     },
     "execution_count": 366,
     "metadata": {},
     "output_type": "execute_result"
    }
   ],
   "source": [
    "#shows the total number of rows and column of the dataset\n",
    "suicide_df.shape"
   ]
  },
  {
   "cell_type": "code",
   "execution_count": 367,
   "metadata": {},
   "outputs": [
    {
     "data": {
      "text/plain": [
       "(27820, 12)"
      ]
     },
     "execution_count": 367,
     "metadata": {},
     "output_type": "execute_result"
    }
   ],
   "source": [
    "#drops duplicated copy of data\n",
    "suicide_df.drop_duplicates()\n",
    "\n",
    "#displays the row and column number\n",
    "suicide_df.shape"
   ]
  },
  {
   "cell_type": "markdown",
   "metadata": {},
   "source": [
    "here, we see that after dropping the duplicated copies of data, the number of rows are still consistent which means that there is no duplicated data"
   ]
  },
  {
   "cell_type": "markdown",
   "metadata": {},
   "source": [
    "<b>Checking of the number of null values for each each category</b>"
   ]
  },
  {
   "cell_type": "code",
   "execution_count": 368,
   "metadata": {},
   "outputs": [
    {
     "data": {
      "text/plain": [
       "country                          0\n",
       "year                             0\n",
       "sex                              0\n",
       "age                              0\n",
       "suicides_no                      0\n",
       "population                       0\n",
       "suicides_rate                    0\n",
       "country-year                     0\n",
       "HDI for year                 19456\n",
       "gdp_for_year_in_dollars          0\n",
       "gdp_per_capita_in_dollars        0\n",
       "generation                       0\n",
       "dtype: int64"
      ]
     },
     "execution_count": 368,
     "metadata": {},
     "output_type": "execute_result"
    }
   ],
   "source": [
    "#shows the total number of null values for each category\n",
    "suicide_df.isnull().sum()"
   ]
  },
  {
   "cell_type": "markdown",
   "metadata": {},
   "source": [
    "here, we observe that \"HDI for year\" has more than half of the total number of rows that contains null"
   ]
  },
  {
   "cell_type": "markdown",
   "metadata": {},
   "source": [
    "<b>Deletion of Data</b>\n",
    "<br>\n",
    "base on our observations so far, seemingly \"HDI for year\" has more than half of the total number of rows that contains null, we delete the said category as it wouldn't be as useful as the others in analyzing the data. On another note, we also observe that \"country-year\" is the same as the category of \"country\" and \"year\" as such it was deemed to be a duplicate as well so we remove it too"
   ]
  },
  {
   "cell_type": "code",
   "execution_count": 369,
   "metadata": {},
   "outputs": [],
   "source": [
    "#deletion of country-year column\n",
    "del suicide_df[\"country-year\"]\n",
    "\n",
    "#deletion of HDI for year column\n",
    "del suicide_df[\"HDI for year\"]"
   ]
  },
  {
   "cell_type": "code",
   "execution_count": 370,
   "metadata": {},
   "outputs": [
    {
     "data": {
      "text/html": [
       "<div>\n",
       "<style scoped>\n",
       "    .dataframe tbody tr th:only-of-type {\n",
       "        vertical-align: middle;\n",
       "    }\n",
       "\n",
       "    .dataframe tbody tr th {\n",
       "        vertical-align: top;\n",
       "    }\n",
       "\n",
       "    .dataframe thead th {\n",
       "        text-align: right;\n",
       "    }\n",
       "</style>\n",
       "<table border=\"1\" class=\"dataframe\">\n",
       "  <thead>\n",
       "    <tr style=\"text-align: right;\">\n",
       "      <th></th>\n",
       "      <th>country</th>\n",
       "      <th>year</th>\n",
       "      <th>sex</th>\n",
       "      <th>age</th>\n",
       "      <th>suicides_no</th>\n",
       "      <th>population</th>\n",
       "      <th>suicides_rate</th>\n",
       "      <th>gdp_for_year_in_dollars</th>\n",
       "      <th>gdp_per_capita_in_dollars</th>\n",
       "      <th>generation</th>\n",
       "    </tr>\n",
       "  </thead>\n",
       "  <tbody>\n",
       "    <tr>\n",
       "      <td>0</td>\n",
       "      <td>Albania</td>\n",
       "      <td>1987</td>\n",
       "      <td>male</td>\n",
       "      <td>15-24 years</td>\n",
       "      <td>21</td>\n",
       "      <td>312900</td>\n",
       "      <td>6.71</td>\n",
       "      <td>2156624900</td>\n",
       "      <td>796</td>\n",
       "      <td>Generation X</td>\n",
       "    </tr>\n",
       "    <tr>\n",
       "      <td>1</td>\n",
       "      <td>Albania</td>\n",
       "      <td>1987</td>\n",
       "      <td>male</td>\n",
       "      <td>35-54 years</td>\n",
       "      <td>16</td>\n",
       "      <td>308000</td>\n",
       "      <td>5.19</td>\n",
       "      <td>2156624900</td>\n",
       "      <td>796</td>\n",
       "      <td>Silent</td>\n",
       "    </tr>\n",
       "    <tr>\n",
       "      <td>2</td>\n",
       "      <td>Albania</td>\n",
       "      <td>1987</td>\n",
       "      <td>female</td>\n",
       "      <td>15-24 years</td>\n",
       "      <td>14</td>\n",
       "      <td>289700</td>\n",
       "      <td>4.83</td>\n",
       "      <td>2156624900</td>\n",
       "      <td>796</td>\n",
       "      <td>Generation X</td>\n",
       "    </tr>\n",
       "    <tr>\n",
       "      <td>3</td>\n",
       "      <td>Albania</td>\n",
       "      <td>1987</td>\n",
       "      <td>male</td>\n",
       "      <td>75+ years</td>\n",
       "      <td>1</td>\n",
       "      <td>21800</td>\n",
       "      <td>4.59</td>\n",
       "      <td>2156624900</td>\n",
       "      <td>796</td>\n",
       "      <td>G.I. Generation</td>\n",
       "    </tr>\n",
       "    <tr>\n",
       "      <td>4</td>\n",
       "      <td>Albania</td>\n",
       "      <td>1987</td>\n",
       "      <td>male</td>\n",
       "      <td>25-34 years</td>\n",
       "      <td>9</td>\n",
       "      <td>274300</td>\n",
       "      <td>3.28</td>\n",
       "      <td>2156624900</td>\n",
       "      <td>796</td>\n",
       "      <td>Boomers</td>\n",
       "    </tr>\n",
       "  </tbody>\n",
       "</table>\n",
       "</div>"
      ],
      "text/plain": [
       "   country  year     sex          age  suicides_no  population  suicides_rate  \\\n",
       "0  Albania  1987    male  15-24 years           21      312900           6.71   \n",
       "1  Albania  1987    male  35-54 years           16      308000           5.19   \n",
       "2  Albania  1987  female  15-24 years           14      289700           4.83   \n",
       "3  Albania  1987    male    75+ years            1       21800           4.59   \n",
       "4  Albania  1987    male  25-34 years            9      274300           3.28   \n",
       "\n",
       "   gdp_for_year_in_dollars  gdp_per_capita_in_dollars       generation  \n",
       "0               2156624900                        796     Generation X  \n",
       "1               2156624900                        796           Silent  \n",
       "2               2156624900                        796     Generation X  \n",
       "3               2156624900                        796  G.I. Generation  \n",
       "4               2156624900                        796          Boomers  "
      ]
     },
     "execution_count": 370,
     "metadata": {},
     "output_type": "execute_result"
    }
   ],
   "source": [
    "#displays the first 5 data\n",
    "suicide_df.head()"
   ]
  },
  {
   "cell_type": "markdown",
   "metadata": {},
   "source": [
    "here, we observe that \"country-year\" and \"HDI for year\" was successfully removed from the dataframe"
   ]
  },
  {
   "cell_type": "markdown",
   "metadata": {},
   "source": [
    "<b>Checking whether there's the data has letter case problems (i.e. \"country\" is not equivalent to \"Country\")</b>\n",
    "<br>\n",
    "First, we check the number of unique data for each category and the data types of each in order to selectively choose which one to check for possible duplicated values. In this case, we choose the \"object\" data type as it has a higher probably of having the said problem."
   ]
  },
  {
   "cell_type": "code",
   "execution_count": 371,
   "metadata": {},
   "outputs": [
    {
     "data": {
      "text/plain": [
       "country                        101\n",
       "year                            32\n",
       "sex                              2\n",
       "age                              6\n",
       "suicides_no                   2084\n",
       "population                   25564\n",
       "suicides_rate                 5298\n",
       "gdp_for_year_in_dollars       2321\n",
       "gdp_per_capita_in_dollars     2233\n",
       "generation                       6\n",
       "dtype: int64"
      ]
     },
     "execution_count": 371,
     "metadata": {},
     "output_type": "execute_result"
    }
   ],
   "source": [
    "#displays the unique values for each columns\n",
    "suicide_df.nunique()"
   ]
  },
  {
   "cell_type": "code",
   "execution_count": 372,
   "metadata": {},
   "outputs": [
    {
     "data": {
      "text/plain": [
       "country                       object\n",
       "year                           int64\n",
       "sex                           object\n",
       "age                           object\n",
       "suicides_no                    int64\n",
       "population                     int64\n",
       "suicides_rate                float64\n",
       "gdp_for_year_in_dollars        int64\n",
       "gdp_per_capita_in_dollars      int64\n",
       "generation                    object\n",
       "dtype: object"
      ]
     },
     "execution_count": 372,
     "metadata": {},
     "output_type": "execute_result"
    }
   ],
   "source": [
    "#checking of data types of each \n",
    "suicide_df.dtypes"
   ]
  },
  {
   "cell_type": "code",
   "execution_count": 373,
   "metadata": {},
   "outputs": [
    {
     "data": {
      "text/plain": [
       "array(['Albania', 'Antigua and Barbuda', 'Argentina', 'Armenia', 'Aruba',\n",
       "       'Australia', 'Austria', 'Azerbaijan', 'Bahamas', 'Bahrain',\n",
       "       'Barbados', 'Belarus', 'Belgium', 'Belize',\n",
       "       'Bosnia and Herzegovina', 'Brazil', 'Bulgaria', 'Cabo Verde',\n",
       "       'Canada', 'Chile', 'Colombia', 'Costa Rica', 'Croatia', 'Cuba',\n",
       "       'Cyprus', 'Czech Republic', 'Denmark', 'Dominica', 'Ecuador',\n",
       "       'El Salvador', 'Estonia', 'Fiji', 'Finland', 'France', 'Georgia',\n",
       "       'Germany', 'Greece', 'Grenada', 'Guatemala', 'Guyana', 'Hungary',\n",
       "       'Iceland', 'Ireland', 'Israel', 'Italy', 'Jamaica', 'Japan',\n",
       "       'Kazakhstan', 'Kiribati', 'Kuwait', 'Kyrgyzstan', 'Latvia',\n",
       "       'Lithuania', 'Luxembourg', 'Macau', 'Maldives', 'Malta',\n",
       "       'Mauritius', 'Mexico', 'Mongolia', 'Montenegro', 'Netherlands',\n",
       "       'New Zealand', 'Nicaragua', 'Norway', 'Oman', 'Panama', 'Paraguay',\n",
       "       'Philippines', 'Poland', 'Portugal', 'Puerto Rico', 'Qatar',\n",
       "       'Republic of Korea', 'Romania', 'Russian Federation',\n",
       "       'Saint Kitts and Nevis', 'Saint Lucia',\n",
       "       'Saint Vincent and Grenadines', 'San Marino', 'Serbia',\n",
       "       'Seychelles', 'Singapore', 'Slovakia', 'Slovenia', 'South Africa',\n",
       "       'Spain', 'Sri Lanka', 'Suriname', 'Sweden', 'Switzerland',\n",
       "       'Thailand', 'Trinidad and Tobago', 'Turkey', 'Turkmenistan',\n",
       "       'Ukraine', 'United Arab Emirates', 'United Kingdom',\n",
       "       'United States', 'Uruguay', 'Uzbekistan'], dtype=object)"
      ]
     },
     "execution_count": 373,
     "metadata": {},
     "output_type": "execute_result"
    }
   ],
   "source": [
    "#displays the unique data for country\n",
    "suicide_df[\"country\"].unique()"
   ]
  },
  {
   "cell_type": "code",
   "execution_count": 374,
   "metadata": {},
   "outputs": [
    {
     "data": {
      "text/plain": [
       "array(['male', 'female'], dtype=object)"
      ]
     },
     "execution_count": 374,
     "metadata": {},
     "output_type": "execute_result"
    }
   ],
   "source": [
    "#displays the unique data for sex\n",
    "suicide_df[\"sex\"].unique()"
   ]
  },
  {
   "cell_type": "code",
   "execution_count": 375,
   "metadata": {},
   "outputs": [
    {
     "data": {
      "text/plain": [
       "array(['15-24 years', '35-54 years', '75+ years', '25-34 years',\n",
       "       '55-74 years', '05-14 years'], dtype=object)"
      ]
     },
     "execution_count": 375,
     "metadata": {},
     "output_type": "execute_result"
    }
   ],
   "source": [
    "#displays the unique data for age\n",
    "suicide_df[\"age\"].unique()"
   ]
  },
  {
   "cell_type": "code",
   "execution_count": 376,
   "metadata": {},
   "outputs": [
    {
     "data": {
      "text/plain": [
       "array(['Generation X', 'Silent', 'G.I. Generation', 'Boomers',\n",
       "       'Millenials', 'Generation Z'], dtype=object)"
      ]
     },
     "execution_count": 376,
     "metadata": {},
     "output_type": "execute_result"
    }
   ],
   "source": [
    "#displays the unique data for generation\n",
    "suicide_df[\"generation\"].unique()"
   ]
  },
  {
   "cell_type": "markdown",
   "metadata": {},
   "source": [
    "here, we see that there are no issues with the letter casing that would cause duplicates"
   ]
  },
  {
   "cell_type": "markdown",
   "metadata": {},
   "source": [
    "<h2>Data Analysis</h2>\n",
    "<br>\n",
    "After data preparation, we start making an analysis on the said data we have "
   ]
  },
  {
   "cell_type": "code",
   "execution_count": 485,
   "metadata": {},
   "outputs": [
    {
     "data": {
      "text/html": [
       "<div>\n",
       "<style scoped>\n",
       "    .dataframe tbody tr th:only-of-type {\n",
       "        vertical-align: middle;\n",
       "    }\n",
       "\n",
       "    .dataframe tbody tr th {\n",
       "        vertical-align: top;\n",
       "    }\n",
       "\n",
       "    .dataframe thead th {\n",
       "        text-align: right;\n",
       "    }\n",
       "</style>\n",
       "<table border=\"1\" class=\"dataframe\">\n",
       "  <thead>\n",
       "    <tr style=\"text-align: right;\">\n",
       "      <th></th>\n",
       "      <th>country</th>\n",
       "      <th>year</th>\n",
       "      <th>sex</th>\n",
       "      <th>age</th>\n",
       "      <th>suicides_no</th>\n",
       "      <th>population</th>\n",
       "      <th>suicides_rate</th>\n",
       "      <th>gdp_for_year_in_dollars</th>\n",
       "      <th>gdp_per_capita_in_dollars</th>\n",
       "      <th>generation</th>\n",
       "    </tr>\n",
       "  </thead>\n",
       "  <tbody>\n",
       "    <tr>\n",
       "      <td>0</td>\n",
       "      <td>Albania</td>\n",
       "      <td>1987</td>\n",
       "      <td>male</td>\n",
       "      <td>15-24 years</td>\n",
       "      <td>21</td>\n",
       "      <td>312900</td>\n",
       "      <td>6.71</td>\n",
       "      <td>2156624900</td>\n",
       "      <td>796</td>\n",
       "      <td>Generation X</td>\n",
       "    </tr>\n",
       "    <tr>\n",
       "      <td>1</td>\n",
       "      <td>Albania</td>\n",
       "      <td>1987</td>\n",
       "      <td>male</td>\n",
       "      <td>35-54 years</td>\n",
       "      <td>16</td>\n",
       "      <td>308000</td>\n",
       "      <td>5.19</td>\n",
       "      <td>2156624900</td>\n",
       "      <td>796</td>\n",
       "      <td>Silent</td>\n",
       "    </tr>\n",
       "    <tr>\n",
       "      <td>2</td>\n",
       "      <td>Albania</td>\n",
       "      <td>1987</td>\n",
       "      <td>female</td>\n",
       "      <td>15-24 years</td>\n",
       "      <td>14</td>\n",
       "      <td>289700</td>\n",
       "      <td>4.83</td>\n",
       "      <td>2156624900</td>\n",
       "      <td>796</td>\n",
       "      <td>Generation X</td>\n",
       "    </tr>\n",
       "    <tr>\n",
       "      <td>3</td>\n",
       "      <td>Albania</td>\n",
       "      <td>1987</td>\n",
       "      <td>male</td>\n",
       "      <td>75+ years</td>\n",
       "      <td>1</td>\n",
       "      <td>21800</td>\n",
       "      <td>4.59</td>\n",
       "      <td>2156624900</td>\n",
       "      <td>796</td>\n",
       "      <td>G.I. Generation</td>\n",
       "    </tr>\n",
       "    <tr>\n",
       "      <td>4</td>\n",
       "      <td>Albania</td>\n",
       "      <td>1987</td>\n",
       "      <td>male</td>\n",
       "      <td>25-34 years</td>\n",
       "      <td>9</td>\n",
       "      <td>274300</td>\n",
       "      <td>3.28</td>\n",
       "      <td>2156624900</td>\n",
       "      <td>796</td>\n",
       "      <td>Boomers</td>\n",
       "    </tr>\n",
       "    <tr>\n",
       "      <td>5</td>\n",
       "      <td>Albania</td>\n",
       "      <td>1987</td>\n",
       "      <td>female</td>\n",
       "      <td>75+ years</td>\n",
       "      <td>1</td>\n",
       "      <td>35600</td>\n",
       "      <td>2.81</td>\n",
       "      <td>2156624900</td>\n",
       "      <td>796</td>\n",
       "      <td>G.I. Generation</td>\n",
       "    </tr>\n",
       "    <tr>\n",
       "      <td>6</td>\n",
       "      <td>Albania</td>\n",
       "      <td>1987</td>\n",
       "      <td>female</td>\n",
       "      <td>35-54 years</td>\n",
       "      <td>6</td>\n",
       "      <td>278800</td>\n",
       "      <td>2.15</td>\n",
       "      <td>2156624900</td>\n",
       "      <td>796</td>\n",
       "      <td>Silent</td>\n",
       "    </tr>\n",
       "    <tr>\n",
       "      <td>7</td>\n",
       "      <td>Albania</td>\n",
       "      <td>1987</td>\n",
       "      <td>female</td>\n",
       "      <td>25-34 years</td>\n",
       "      <td>4</td>\n",
       "      <td>257200</td>\n",
       "      <td>1.56</td>\n",
       "      <td>2156624900</td>\n",
       "      <td>796</td>\n",
       "      <td>Boomers</td>\n",
       "    </tr>\n",
       "    <tr>\n",
       "      <td>8</td>\n",
       "      <td>Albania</td>\n",
       "      <td>1987</td>\n",
       "      <td>male</td>\n",
       "      <td>55-74 years</td>\n",
       "      <td>1</td>\n",
       "      <td>137500</td>\n",
       "      <td>0.73</td>\n",
       "      <td>2156624900</td>\n",
       "      <td>796</td>\n",
       "      <td>G.I. Generation</td>\n",
       "    </tr>\n",
       "    <tr>\n",
       "      <td>9</td>\n",
       "      <td>Albania</td>\n",
       "      <td>1987</td>\n",
       "      <td>female</td>\n",
       "      <td>05-14 years</td>\n",
       "      <td>0</td>\n",
       "      <td>311000</td>\n",
       "      <td>0.00</td>\n",
       "      <td>2156624900</td>\n",
       "      <td>796</td>\n",
       "      <td>Generation X</td>\n",
       "    </tr>\n",
       "  </tbody>\n",
       "</table>\n",
       "</div>"
      ],
      "text/plain": [
       "   country  year     sex          age  suicides_no  population  suicides_rate  \\\n",
       "0  Albania  1987    male  15-24 years           21      312900           6.71   \n",
       "1  Albania  1987    male  35-54 years           16      308000           5.19   \n",
       "2  Albania  1987  female  15-24 years           14      289700           4.83   \n",
       "3  Albania  1987    male    75+ years            1       21800           4.59   \n",
       "4  Albania  1987    male  25-34 years            9      274300           3.28   \n",
       "5  Albania  1987  female    75+ years            1       35600           2.81   \n",
       "6  Albania  1987  female  35-54 years            6      278800           2.15   \n",
       "7  Albania  1987  female  25-34 years            4      257200           1.56   \n",
       "8  Albania  1987    male  55-74 years            1      137500           0.73   \n",
       "9  Albania  1987  female  05-14 years            0      311000           0.00   \n",
       "\n",
       "   gdp_for_year_in_dollars  gdp_per_capita_in_dollars       generation  \n",
       "0               2156624900                        796     Generation X  \n",
       "1               2156624900                        796           Silent  \n",
       "2               2156624900                        796     Generation X  \n",
       "3               2156624900                        796  G.I. Generation  \n",
       "4               2156624900                        796          Boomers  \n",
       "5               2156624900                        796  G.I. Generation  \n",
       "6               2156624900                        796           Silent  \n",
       "7               2156624900                        796          Boomers  \n",
       "8               2156624900                        796  G.I. Generation  \n",
       "9               2156624900                        796     Generation X  "
      ]
     },
     "execution_count": 485,
     "metadata": {},
     "output_type": "execute_result"
    }
   ],
   "source": [
    "#displays the 1st 10 data \n",
    "suicide_df.head(10)"
   ]
  },
  {
   "cell_type": "code",
   "execution_count": 332,
   "metadata": {},
   "outputs": [
    {
     "data": {
      "text/html": [
       "<div>\n",
       "<style scoped>\n",
       "    .dataframe tbody tr th:only-of-type {\n",
       "        vertical-align: middle;\n",
       "    }\n",
       "\n",
       "    .dataframe tbody tr th {\n",
       "        vertical-align: top;\n",
       "    }\n",
       "\n",
       "    .dataframe thead th {\n",
       "        text-align: right;\n",
       "    }\n",
       "</style>\n",
       "<table border=\"1\" class=\"dataframe\">\n",
       "  <thead>\n",
       "    <tr style=\"text-align: right;\">\n",
       "      <th></th>\n",
       "      <th>country</th>\n",
       "      <th>year</th>\n",
       "      <th>sex</th>\n",
       "      <th>age</th>\n",
       "      <th>suicides_no</th>\n",
       "      <th>population</th>\n",
       "      <th>suicides_rate</th>\n",
       "      <th>country-year</th>\n",
       "      <th>gdp_for_year_in_dollars</th>\n",
       "      <th>gdp_per_capita_in_dollars</th>\n",
       "      <th>generation</th>\n",
       "    </tr>\n",
       "  </thead>\n",
       "  <tbody>\n",
       "    <tr>\n",
       "      <td>27810</td>\n",
       "      <td>Uzbekistan</td>\n",
       "      <td>2014</td>\n",
       "      <td>female</td>\n",
       "      <td>15-24 years</td>\n",
       "      <td>347</td>\n",
       "      <td>2992817</td>\n",
       "      <td>11.59</td>\n",
       "      <td>Uzbekistan2014</td>\n",
       "      <td>63067077179</td>\n",
       "      <td>2309</td>\n",
       "      <td>Millenials</td>\n",
       "    </tr>\n",
       "    <tr>\n",
       "      <td>27811</td>\n",
       "      <td>Uzbekistan</td>\n",
       "      <td>2014</td>\n",
       "      <td>male</td>\n",
       "      <td>55-74 years</td>\n",
       "      <td>144</td>\n",
       "      <td>1271111</td>\n",
       "      <td>11.33</td>\n",
       "      <td>Uzbekistan2014</td>\n",
       "      <td>63067077179</td>\n",
       "      <td>2309</td>\n",
       "      <td>Boomers</td>\n",
       "    </tr>\n",
       "    <tr>\n",
       "      <td>27812</td>\n",
       "      <td>Uzbekistan</td>\n",
       "      <td>2014</td>\n",
       "      <td>male</td>\n",
       "      <td>15-24 years</td>\n",
       "      <td>347</td>\n",
       "      <td>3126905</td>\n",
       "      <td>11.10</td>\n",
       "      <td>Uzbekistan2014</td>\n",
       "      <td>63067077179</td>\n",
       "      <td>2309</td>\n",
       "      <td>Millenials</td>\n",
       "    </tr>\n",
       "    <tr>\n",
       "      <td>27813</td>\n",
       "      <td>Uzbekistan</td>\n",
       "      <td>2014</td>\n",
       "      <td>male</td>\n",
       "      <td>75+ years</td>\n",
       "      <td>17</td>\n",
       "      <td>224995</td>\n",
       "      <td>7.56</td>\n",
       "      <td>Uzbekistan2014</td>\n",
       "      <td>63067077179</td>\n",
       "      <td>2309</td>\n",
       "      <td>Silent</td>\n",
       "    </tr>\n",
       "    <tr>\n",
       "      <td>27814</td>\n",
       "      <td>Uzbekistan</td>\n",
       "      <td>2014</td>\n",
       "      <td>female</td>\n",
       "      <td>25-34 years</td>\n",
       "      <td>162</td>\n",
       "      <td>2735238</td>\n",
       "      <td>5.92</td>\n",
       "      <td>Uzbekistan2014</td>\n",
       "      <td>63067077179</td>\n",
       "      <td>2309</td>\n",
       "      <td>Millenials</td>\n",
       "    </tr>\n",
       "    <tr>\n",
       "      <td>27815</td>\n",
       "      <td>Uzbekistan</td>\n",
       "      <td>2014</td>\n",
       "      <td>female</td>\n",
       "      <td>35-54 years</td>\n",
       "      <td>107</td>\n",
       "      <td>3620833</td>\n",
       "      <td>2.96</td>\n",
       "      <td>Uzbekistan2014</td>\n",
       "      <td>63067077179</td>\n",
       "      <td>2309</td>\n",
       "      <td>Generation X</td>\n",
       "    </tr>\n",
       "    <tr>\n",
       "      <td>27816</td>\n",
       "      <td>Uzbekistan</td>\n",
       "      <td>2014</td>\n",
       "      <td>female</td>\n",
       "      <td>75+ years</td>\n",
       "      <td>9</td>\n",
       "      <td>348465</td>\n",
       "      <td>2.58</td>\n",
       "      <td>Uzbekistan2014</td>\n",
       "      <td>63067077179</td>\n",
       "      <td>2309</td>\n",
       "      <td>Silent</td>\n",
       "    </tr>\n",
       "    <tr>\n",
       "      <td>27817</td>\n",
       "      <td>Uzbekistan</td>\n",
       "      <td>2014</td>\n",
       "      <td>male</td>\n",
       "      <td>05-14 years</td>\n",
       "      <td>60</td>\n",
       "      <td>2762158</td>\n",
       "      <td>2.17</td>\n",
       "      <td>Uzbekistan2014</td>\n",
       "      <td>63067077179</td>\n",
       "      <td>2309</td>\n",
       "      <td>Generation Z</td>\n",
       "    </tr>\n",
       "    <tr>\n",
       "      <td>27818</td>\n",
       "      <td>Uzbekistan</td>\n",
       "      <td>2014</td>\n",
       "      <td>female</td>\n",
       "      <td>05-14 years</td>\n",
       "      <td>44</td>\n",
       "      <td>2631600</td>\n",
       "      <td>1.67</td>\n",
       "      <td>Uzbekistan2014</td>\n",
       "      <td>63067077179</td>\n",
       "      <td>2309</td>\n",
       "      <td>Generation Z</td>\n",
       "    </tr>\n",
       "    <tr>\n",
       "      <td>27819</td>\n",
       "      <td>Uzbekistan</td>\n",
       "      <td>2014</td>\n",
       "      <td>female</td>\n",
       "      <td>55-74 years</td>\n",
       "      <td>21</td>\n",
       "      <td>1438935</td>\n",
       "      <td>1.46</td>\n",
       "      <td>Uzbekistan2014</td>\n",
       "      <td>63067077179</td>\n",
       "      <td>2309</td>\n",
       "      <td>Boomers</td>\n",
       "    </tr>\n",
       "  </tbody>\n",
       "</table>\n",
       "</div>"
      ],
      "text/plain": [
       "          country  year     sex          age  suicides_no  population  \\\n",
       "27810  Uzbekistan  2014  female  15-24 years          347     2992817   \n",
       "27811  Uzbekistan  2014    male  55-74 years          144     1271111   \n",
       "27812  Uzbekistan  2014    male  15-24 years          347     3126905   \n",
       "27813  Uzbekistan  2014    male    75+ years           17      224995   \n",
       "27814  Uzbekistan  2014  female  25-34 years          162     2735238   \n",
       "27815  Uzbekistan  2014  female  35-54 years          107     3620833   \n",
       "27816  Uzbekistan  2014  female    75+ years            9      348465   \n",
       "27817  Uzbekistan  2014    male  05-14 years           60     2762158   \n",
       "27818  Uzbekistan  2014  female  05-14 years           44     2631600   \n",
       "27819  Uzbekistan  2014  female  55-74 years           21     1438935   \n",
       "\n",
       "       suicides_rate    country-year  gdp_for_year_in_dollars  \\\n",
       "27810          11.59  Uzbekistan2014              63067077179   \n",
       "27811          11.33  Uzbekistan2014              63067077179   \n",
       "27812          11.10  Uzbekistan2014              63067077179   \n",
       "27813           7.56  Uzbekistan2014              63067077179   \n",
       "27814           5.92  Uzbekistan2014              63067077179   \n",
       "27815           2.96  Uzbekistan2014              63067077179   \n",
       "27816           2.58  Uzbekistan2014              63067077179   \n",
       "27817           2.17  Uzbekistan2014              63067077179   \n",
       "27818           1.67  Uzbekistan2014              63067077179   \n",
       "27819           1.46  Uzbekistan2014              63067077179   \n",
       "\n",
       "       gdp_per_capita_in_dollars    generation  \n",
       "27810                       2309    Millenials  \n",
       "27811                       2309       Boomers  \n",
       "27812                       2309    Millenials  \n",
       "27813                       2309        Silent  \n",
       "27814                       2309    Millenials  \n",
       "27815                       2309  Generation X  \n",
       "27816                       2309        Silent  \n",
       "27817                       2309  Generation Z  \n",
       "27818                       2309  Generation Z  \n",
       "27819                       2309       Boomers  "
      ]
     },
     "execution_count": 332,
     "metadata": {},
     "output_type": "execute_result"
    }
   ],
   "source": [
    "#displays the last 10 data \n",
    "suicide_df.tail(10)"
   ]
  },
  {
   "cell_type": "markdown",
   "metadata": {},
   "source": [
    "<b>average of gdp per capita in dollars per year</b>\n",
    "<br>\n",
    "checks the trend of the average capita in dollars per year"
   ]
  },
  {
   "cell_type": "code",
   "execution_count": 377,
   "metadata": {},
   "outputs": [
    {
     "data": {
      "text/plain": [
       "year\n",
       "1985     6091.229167\n",
       "1986     7126.104167\n",
       "1987     8712.592593\n",
       "1988     9983.857143\n",
       "1989     9725.038462\n",
       "1990     9806.328125\n",
       "1991    10132.937500\n",
       "1992    10506.707692\n",
       "1993    10553.584615\n",
       "1994    11567.102941\n",
       "1995    12669.346154\n",
       "1996    12554.909091\n",
       "1997    12336.142857\n",
       "1998    12137.898734\n",
       "1999    12832.192771\n",
       "2000    12466.546512\n",
       "2001    12005.579545\n",
       "2002    12613.779070\n",
       "2003    14716.186047\n",
       "2004    17753.904762\n",
       "2005    20155.964286\n",
       "2006    21140.964706\n",
       "2007    23943.430233\n",
       "2008    26408.047059\n",
       "2009    22607.910112\n",
       "2010    23857.193182\n",
       "2011    26100.918605\n",
       "2012    26808.950617\n",
       "2013    28032.675000\n",
       "2014    27420.141026\n",
       "2015    26231.193548\n",
       "2016    25665.125000\n",
       "Name: gdp_per_capita_in_dollars, dtype: float64"
      ]
     },
     "execution_count": 377,
     "metadata": {},
     "output_type": "execute_result"
    }
   ],
   "source": [
    "suicide_df.groupby('year').gdp_per_capita_in_dollars.mean()"
   ]
  },
  {
   "cell_type": "code",
   "execution_count": 406,
   "metadata": {},
   "outputs": [
    {
     "data": {
      "image/png": "[encoded data removed]",
      "text/plain": [
       "<Figure size 720x360 with 1 Axes>"
      ]
     },
     "metadata": {
      "needs_background": "light"
     },
     "output_type": "display_data"
    }
   ],
   "source": [
    "ax = suicide_df.groupby('year').gdp_per_capita_in_dollars.mean().plot(kind = 'line', figsize= (10, 5))\n",
    "ax.set_title(\"year\")\n",
    "ax.set_ylabel(\"ave gdp per capita($)\")\n",
    "ax.invert_yaxis()\n",
    "\n",
    "plt.show()"
   ]
  },
  {
   "cell_type": "markdown",
   "metadata": {},
   "source": [
    "here, it shows over the years, the the average gdp per capita is decreasing "
   ]
  },
  {
   "cell_type": "markdown",
   "metadata": {},
   "source": [
    "<b>average gdp per year in dollars</b>"
   ]
  },
  {
   "cell_type": "code",
   "execution_count": 379,
   "metadata": {},
   "outputs": [
    {
     "data": {
      "text/plain": [
       "year\n",
       "1985    1.926471e+11\n",
       "1986    2.302251e+11\n",
       "1987    2.403856e+11\n",
       "1988    2.985675e+11\n",
       "1989    3.070805e+11\n",
       "1990    3.078964e+11\n",
       "1991    3.282590e+11\n",
       "1992    3.437280e+11\n",
       "1993    3.474834e+11\n",
       "1994    3.599628e+11\n",
       "1995    3.518792e+11\n",
       "1996    3.628239e+11\n",
       "1997    3.578036e+11\n",
       "1998    3.482985e+11\n",
       "1999    3.451894e+11\n",
       "2000    3.414474e+11\n",
       "2001    3.296759e+11\n",
       "2002    3.502519e+11\n",
       "2003    3.927262e+11\n",
       "2004    4.468505e+11\n",
       "2005    4.712970e+11\n",
       "2006    5.077111e+11\n",
       "2007    5.586334e+11\n",
       "2008    6.071788e+11\n",
       "2009    5.475967e+11\n",
       "2010    5.926727e+11\n",
       "2011    6.569768e+11\n",
       "2012    6.959903e+11\n",
       "2013    7.135940e+11\n",
       "2014    7.184794e+11\n",
       "2015    7.801531e+11\n",
       "2016    1.828256e+11\n",
       "Name: gdp_for_year_in_dollars, dtype: float64"
      ]
     },
     "execution_count": 379,
     "metadata": {},
     "output_type": "execute_result"
    }
   ],
   "source": [
    "suicide_df.groupby('year').gdp_for_year_in_dollars.mean()"
   ]
  },
  {
   "cell_type": "code",
   "execution_count": 405,
   "metadata": {},
   "outputs": [
    {
     "data": {
      "image/png": "[encoded data removed]",
      "text/plain": [
       "<Figure size 720x360 with 1 Axes>"
      ]
     },
     "metadata": {
      "needs_background": "light"
     },
     "output_type": "display_data"
    }
   ],
   "source": [
    "ax = suicide_df.groupby('year').gdp_for_year_in_dollars.mean().plot(kind = 'line', figsize= (10, 5))\n",
    "ax.set_title(\"year\")\n",
    "ax.set_ylabel(\"gdp for year($)\")\n",
    "ax.invert_yaxis()\n",
    "\n",
    "plt.show()"
   ]
  },
  {
   "cell_type": "markdown",
   "metadata": {},
   "source": [
    "here, it shows that the gdp is decreasing over the years until 2016"
   ]
  },
  {
   "cell_type": "markdown",
   "metadata": {},
   "source": [
    "<b>Checking of data by country and year given the suicide rates and gdp</b>"
   ]
  },
  {
   "cell_type": "code",
   "execution_count": 381,
   "metadata": {},
   "outputs": [
    {
     "data": {
      "text/plain": [
       "year  country            \n",
       "1985  Antigua and Barbuda        62574\n",
       "      Argentina               27090800\n",
       "      Australia               14562500\n",
       "      Austria                  7110115\n",
       "      Bahamas                   203700\n",
       "      Bahrain                   365900\n",
       "      Barbados                  231000\n",
       "      Belgium                  9269600\n",
       "      Brazil                 117478900\n",
       "      Bulgaria                 8392500\n",
       "Name: population, dtype: int64"
      ]
     },
     "execution_count": 381,
     "metadata": {},
     "output_type": "execute_result"
    }
   ],
   "source": [
    "suicide_df.groupby(['year', 'country']).population.sum().head(10)"
   ]
  },
  {
   "cell_type": "code",
   "execution_count": 479,
   "metadata": {},
   "outputs": [
    {
     "data": {
      "image/png": "[encoded data removed]",
      "text/plain": [
       "<Figure size 720x360 with 1 Axes>"
      ]
     },
     "metadata": {
      "needs_background": "light"
     },
     "output_type": "display_data"
    }
   ],
   "source": [
    "ax = suicide_df.groupby(['year', 'country']).population.sum().head(20).plot(kind = 'barh', figsize= (10, 5), width = 0.5)\n",
    "ax.set_title(\"Population\")\n",
    "ax.set_ylabel(\"Year, Country\")\n",
    "ax.invert_yaxis()"
   ]
  },
  {
   "cell_type": "code",
   "execution_count": 480,
   "metadata": {},
   "outputs": [
    {
     "data": {
      "image/png": "[encoded data removed]",
      "text/plain": [
       "<Figure size 720x360 with 1 Axes>"
      ]
     },
     "metadata": {
      "needs_background": "light"
     },
     "output_type": "display_data"
    }
   ],
   "source": [
    "ax = suicide_df.groupby(['year', 'country']).population.sum().tail(20).plot(kind = 'barh', figsize= (10, 5), width = 0.5)\n",
    "ax.set_title(\"Population\")\n",
    "ax.set_ylabel(\"Year, Country\")\n",
    "ax.invert_yaxis()"
   ]
  },
  {
   "cell_type": "markdown",
   "metadata": {},
   "source": [
    "here, this shows the population for each country in each year"
   ]
  },
  {
   "cell_type": "code",
   "execution_count": 384,
   "metadata": {},
   "outputs": [
    {
     "data": {
      "text/plain": [
       "year  country            \n",
       "1985  Antigua and Barbuda        0\n",
       "      Argentina               1988\n",
       "      Australia               1861\n",
       "      Austria                 2091\n",
       "      Bahamas                    1\n",
       "      Bahrain                   11\n",
       "      Barbados                   7\n",
       "      Belgium                 2281\n",
       "      Brazil                  4228\n",
       "      Bulgaria                1456\n",
       "      Canada                  3258\n",
       "      Chile                    683\n",
       "      Colombia                1001\n",
       "      Costa Rica               128\n",
       "      Dominica                   0\n",
       "      Ecuador                  393\n",
       "      France                 12501\n",
       "      Greece                   405\n",
       "      Grenada                    1\n",
       "      Iceland                   32\n",
       "Name: suicides_no, dtype: int64"
      ]
     },
     "execution_count": 384,
     "metadata": {},
     "output_type": "execute_result"
    }
   ],
   "source": [
    "suicide_df.groupby(['year', 'country']).suicides_no.sum().head(20)"
   ]
  },
  {
   "cell_type": "code",
   "execution_count": 481,
   "metadata": {},
   "outputs": [
    {
     "data": {
      "image/png": "[encoded data removed]",
      "text/plain": [
       "<Figure size 720x360 with 1 Axes>"
      ]
     },
     "metadata": {
      "needs_background": "light"
     },
     "output_type": "display_data"
    }
   ],
   "source": [
    "ax = suicide_df.groupby(['year', 'country']).suicides_no.sum().head(20).plot(kind = 'barh', figsize= (10, 5), width =0.5)\n",
    "ax.set_title(\"Suicides No.\")\n",
    "ax.set_ylabel(\"Year, Country\")\n",
    "ax.invert_yaxis()"
   ]
  },
  {
   "cell_type": "code",
   "execution_count": 482,
   "metadata": {},
   "outputs": [
    {
     "data": {
      "image/png": "[encoded data removed]",
      "text/plain": [
       "<Figure size 720x360 with 1 Axes>"
      ]
     },
     "metadata": {
      "needs_background": "light"
     },
     "output_type": "display_data"
    }
   ],
   "source": [
    "ax = suicide_df.groupby(['year', 'country']).suicides_no.sum().tail(20).plot(kind = 'barh', figsize= (10, 5), width = 0.5)\n",
    "ax.set_title(\"Suicides No.\")\n",
    "ax.set_ylabel(\"Year, Country\")\n",
    "ax.invert_yaxis()"
   ]
  },
  {
   "cell_type": "markdown",
   "metadata": {},
   "source": [
    "here, it shows the suicide number for each country in each year"
   ]
  },
  {
   "cell_type": "code",
   "execution_count": 387,
   "metadata": {},
   "outputs": [
    {
     "data": {
      "text/plain": [
       "year  country              gdp_per_capita_in_dollars\n",
       "1985  Antigua and Barbuda  3850                         12\n",
       "      Argentina            3264                         12\n",
       "      Australia            12374                        12\n",
       "      Austria              9759                         12\n",
       "      Bahamas              11393                        12\n",
       "      Bahrain              9980                         12\n",
       "      Barbados             6137                         12\n",
       "      Belgium              9356                         12\n",
       "      Brazil               1898                         12\n",
       "      Bulgaria             2044                         12\n",
       "Name: gdp_per_capita_in_dollars, dtype: int64"
      ]
     },
     "execution_count": 387,
     "metadata": {},
     "output_type": "execute_result"
    }
   ],
   "source": [
    "suicide_df.groupby(['year', 'country']).gdp_per_capita_in_dollars.value_counts().head(10)"
   ]
  },
  {
   "cell_type": "code",
   "execution_count": 410,
   "metadata": {},
   "outputs": [
    {
     "data": {
      "text/plain": [
       "year  country      gdp_per_capita_in_dollars\n",
       "2016  Hungary      13448                        10\n",
       "      Iceland      64708                        10\n",
       "      Lithuania    15742                        10\n",
       "      Mauritius    10570                        10\n",
       "      Mongolia     4145                         10\n",
       "      Netherlands  48108                        10\n",
       "      Qatar        62484                        10\n",
       "      Romania      10020                        10\n",
       "      Sweden       55594                        10\n",
       "      Thailand     6713                         10\n",
       "Name: gdp_per_capita_in_dollars, dtype: int64"
      ]
     },
     "execution_count": 410,
     "metadata": {},
     "output_type": "execute_result"
    }
   ],
   "source": [
    "suicide_df.groupby(['year', 'country']).gdp_per_capita_in_dollars.value_counts().tail(10)"
   ]
  },
  {
   "cell_type": "markdown",
   "metadata": {},
   "source": [
    "here, it shows the gdp per capita in dollars for year and country"
   ]
  },
  {
   "cell_type": "code",
   "execution_count": null,
   "metadata": {},
   "outputs": [],
   "source": [
    "Base on the population and gdp per capita in dollars for year for each country, "
   ]
  },
  {
   "cell_type": "code",
   "execution_count": 388,
   "metadata": {},
   "outputs": [
    {
     "data": {
      "text/plain": [
       "year  country              gdp_for_year_in_dollars\n",
       "1985  Antigua and Barbuda  240923926                  12\n",
       "      Argentina            88416668900                12\n",
       "      Australia            180190994861               12\n",
       "      Austria              69386774475                12\n",
       "      Bahamas              2320699900                 12\n",
       "      Bahrain              3651861702                 12\n",
       "      Barbados             1417575550                 12\n",
       "      Belgium              86730038793                12\n",
       "      Brazil               222942790435               12\n",
       "      Bulgaria             17155421053                12\n",
       "Name: gdp_for_year_in_dollars, dtype: int64"
      ]
     },
     "execution_count": 388,
     "metadata": {},
     "output_type": "execute_result"
    }
   ],
   "source": [
    "suicide_df.groupby(['year', 'country']).gdp_for_year_in_dollars.value_counts().head(10)"
   ]
  },
  {
   "cell_type": "code",
   "execution_count": 463,
   "metadata": {},
   "outputs": [
    {
     "data": {
      "text/plain": [
       "year  country      gdp_for_year_in_dollars\n",
       "2016  Hungary      125816640421               10\n",
       "      Iceland      20304098101                10\n",
       "      Lithuania    42773029835                10\n",
       "      Mauritius    12232463656                10\n",
       "      Mongolia     11183458131                10\n",
       "      Netherlands  777227541581               10\n",
       "      Qatar        152451923077               10\n",
       "      Romania      187805922349               10\n",
       "      Sweden       514459972806               10\n",
       "      Thailand     411755164833               10\n",
       "Name: gdp_for_year_in_dollars, dtype: int64"
      ]
     },
     "execution_count": 463,
     "metadata": {},
     "output_type": "execute_result"
    }
   ],
   "source": [
    "suicide_df.groupby(['year', 'country']).gdp_for_year_in_dollars.value_counts().tail(10)"
   ]
  },
  {
   "cell_type": "markdown",
   "metadata": {},
   "source": [
    "here, it shows the gdp for year in dollars for each country per year"
   ]
  },
  {
   "cell_type": "code",
   "execution_count": 389,
   "metadata": {},
   "outputs": [
    {
     "data": {
      "text/plain": [
       "year  country              generation     \n",
       "1985  Antigua and Barbuda  Boomers               0\n",
       "                           G.I. Generation       0\n",
       "                           Generation X          0\n",
       "                           Silent                0\n",
       "      Argentina            Boomers             242\n",
       "                                              ... \n",
       "2016  Sweden               Silent              145\n",
       "      Thailand             Boomers             956\n",
       "                           Generation X       1796\n",
       "                           Millenials         1144\n",
       "                           Silent              221\n",
       "Name: suicides_no, Length: 10673, dtype: int64"
      ]
     },
     "execution_count": 389,
     "metadata": {},
     "output_type": "execute_result"
    }
   ],
   "source": [
    "suicide_df.groupby(['year', 'country', 'generation']).suicides_no.sum()"
   ]
  },
  {
   "cell_type": "code",
   "execution_count": 348,
   "metadata": {},
   "outputs": [
    {
     "data": {
      "text/plain": [
       "country     year  generation     \n",
       "Albania     1987  Boomers              13\n",
       "                  G.I. Generation       3\n",
       "                  Generation X         35\n",
       "                  Silent               22\n",
       "            1988  Boomers              10\n",
       "                                     ... \n",
       "Uzbekistan  2014  Boomers             165\n",
       "                  Generation X        626\n",
       "                  Generation Z        104\n",
       "                  Millenials         1174\n",
       "                  Silent               26\n",
       "Name: suicides_no, Length: 10673, dtype: int64"
      ]
     },
     "execution_count": 348,
     "metadata": {},
     "output_type": "execute_result"
    }
   ],
   "source": [
    "suicide_df.groupby(['country', 'year', 'generation']).suicides_no.sum()"
   ]
  },
  {
   "cell_type": "markdown",
   "metadata": {},
   "source": [
    "here, this shows that suicides number for each country for each generation per year"
   ]
  },
  {
   "cell_type": "code",
   "execution_count": 464,
   "metadata": {},
   "outputs": [
    {
     "data": {
      "text/plain": [
       "country     year  generation       suicides_rate\n",
       "Albania     1987  Boomers          1.56             1\n",
       "                                   3.28             1\n",
       "                  G.I. Generation  0.00             1\n",
       "                                   0.73             1\n",
       "                                   2.81             1\n",
       "                                                   ..\n",
       "Uzbekistan  2014  Millenials       11.10            1\n",
       "                                   11.59            1\n",
       "                                   11.61            1\n",
       "                  Silent           2.58             1\n",
       "                                   7.56             1\n",
       "Name: suicides_rate, Length: 25876, dtype: int64"
      ]
     },
     "execution_count": 464,
     "metadata": {},
     "output_type": "execute_result"
    }
   ],
   "source": [
    "suicide_df.groupby(['country', 'year', 'generation']).suicides_rate.value_counts()"
   ]
  },
  {
   "cell_type": "code",
   "execution_count": 469,
   "metadata": {},
   "outputs": [
    {
     "data": {
      "image/png": "[encoded data removed]",
      "text/plain": [
       "<Figure size 360x720 with 1 Axes>"
      ]
     },
     "metadata": {
      "needs_background": "light"
     },
     "output_type": "display_data"
    }
   ],
   "source": [
    "fig = plt.figure(figsize = (5, 5))\n",
    "ax = fig.add_subplot(111)\n",
    "\n",
    "ax.set_ylabel('year')\n",
    "ax.set_xlabel('suicides_no')\n",
    "\n",
    "ax = suicide_df.groupby('year').suicides_no.sum().plot(ax = ax, kind = 'barh', figsize= (5, 10), width = 0.5)\n",
    "\n",
    "plt.show()"
   ]
  },
  {
   "cell_type": "markdown",
   "metadata": {},
   "source": [
    "here, this shows that in the years between 1985 and 2016, there's a trend of increasing number of suicides but slowly decreasing in the later half. "
   ]
  },
  {
   "cell_type": "code",
   "execution_count": 474,
   "metadata": {},
   "outputs": [
    {
     "data": {
      "image/png": "[encoded data removed]",
      "text/plain": [
       "<Figure size 360x360 with 1 Axes>"
      ]
     },
     "metadata": {
      "needs_background": "light"
     },
     "output_type": "display_data"
    }
   ],
   "source": [
    "fig = plt.figure(figsize = (5, 5))\n",
    "ax = fig.add_subplot(111)\n",
    "\n",
    "ax.set_ylabel('age')\n",
    "ax.set_xlabel('suicides no')\n",
    "ax = suicide_df.groupby('age').suicides_no.sum().plot(ax = ax, kind = 'barh', figsize= (5, 5), width = 0.5)"
   ]
  },
  {
   "cell_type": "code",
   "execution_count": null,
   "metadata": {},
   "outputs": [],
   "source": [
    "fig = plt.figure(figsize = (5, 5))\n",
    "ax = fig.add_subplot(111)\n",
    "\n",
    "ax.set_ylabel('generation')\n",
    "ax.set_xlabel('suicide no')\n",
    "ax = suicide_df.groupby('generation').suicides_no.sum().plot(ax = ax, kind = 'barh', figsize= (5, 5), width = 0.5)\n"
   ]
  },
  {
   "cell_type": "markdown",
   "metadata": {},
   "source": [
    "here, this shows that the range of 35-54years old, there's a higher probability of suiciding"
   ]
  },
  {
   "cell_type": "markdown",
   "metadata": {},
   "source": [
    "<h2>Data Visualization</h2>"
   ]
  },
  {
   "cell_type": "code",
   "execution_count": 431,
   "metadata": {},
   "outputs": [
    {
     "name": "stdout",
     "output_type": "stream",
     "text": [
      "year\n",
      "1985    11.826198\n",
      "1986    11.423333\n",
      "1987    11.644213\n",
      "1988    12.709405\n",
      "1989    12.879071\n",
      "1990    12.862956\n",
      "1991    13.438880\n",
      "1992    13.498564\n",
      "1993    13.833705\n",
      "1994    14.073272\n",
      "1995    15.662671\n",
      "1996    15.305422\n",
      "1997    14.954361\n",
      "1998    14.926920\n",
      "1999    14.532038\n",
      "2000    13.941328\n",
      "2001    13.519138\n",
      "2002    13.786550\n",
      "2003    13.205019\n",
      "2004    12.481944\n",
      "2005    12.068442\n",
      "2006    11.927461\n",
      "2007    12.025339\n",
      "2008    11.907686\n",
      "2009    11.400787\n",
      "2010    11.215900\n",
      "2011    11.015349\n",
      "2012    11.421718\n",
      "2013    11.107958\n",
      "2014    11.011464\n",
      "2015    11.094073\n",
      "2016    13.421188\n",
      "Name: suicides_rate, dtype: float64\n"
     ]
    }
   ],
   "source": [
    "#shows the correlation of suicide rate in each year given gdp per capita\n",
    "sr =suicide_df.groupby('year').suicides_rate.mean()\n",
    "\n",
    "print(sr)\n"
   ]
  },
  {
   "cell_type": "code",
   "execution_count": 433,
   "metadata": {},
   "outputs": [
    {
     "name": "stdout",
     "output_type": "stream",
     "text": [
      "year\n",
      "1985     6091.229167\n",
      "1986     7126.104167\n",
      "1987     8712.592593\n",
      "1988     9983.857143\n",
      "1989     9725.038462\n",
      "1990     9806.328125\n",
      "1991    10132.937500\n",
      "1992    10506.707692\n",
      "1993    10553.584615\n",
      "1994    11567.102941\n",
      "1995    12669.346154\n",
      "1996    12554.909091\n",
      "1997    12336.142857\n",
      "1998    12137.898734\n",
      "1999    12832.192771\n",
      "2000    12466.546512\n",
      "2001    12005.579545\n",
      "2002    12613.779070\n",
      "2003    14716.186047\n",
      "2004    17753.904762\n",
      "2005    20155.964286\n",
      "2006    21140.964706\n",
      "2007    23943.430233\n",
      "2008    26408.047059\n",
      "2009    22607.910112\n",
      "2010    23857.193182\n",
      "2011    26100.918605\n",
      "2012    26808.950617\n",
      "2013    28032.675000\n",
      "2014    27420.141026\n",
      "2015    26231.193548\n",
      "2016    25665.125000\n",
      "Name: gdp_per_capita_in_dollars, dtype: float64\n"
     ]
    }
   ],
   "source": [
    "#shows the correlation of suicide rate in each year given gdp per capita\n",
    "gdp = suicide_df.groupby('year').gdp_per_capita_in_dollars.mean()\n",
    "\n",
    "print(gdp)"
   ]
  },
  {
   "cell_type": "code",
   "execution_count": 451,
   "metadata": {},
   "outputs": [
    {
     "data": {
      "text/html": [
       "<div>\n",
       "<style scoped>\n",
       "    .dataframe tbody tr th:only-of-type {\n",
       "        vertical-align: middle;\n",
       "    }\n",
       "\n",
       "    .dataframe tbody tr th {\n",
       "        vertical-align: top;\n",
       "    }\n",
       "\n",
       "    .dataframe thead th {\n",
       "        text-align: right;\n",
       "    }\n",
       "</style>\n",
       "<table border=\"1\" class=\"dataframe\">\n",
       "  <thead>\n",
       "    <tr style=\"text-align: right;\">\n",
       "      <th></th>\n",
       "      <th>suicides_rate</th>\n",
       "      <th>gdp_per_capita_in_dollars</th>\n",
       "    </tr>\n",
       "    <tr>\n",
       "      <th>year</th>\n",
       "      <th></th>\n",
       "      <th></th>\n",
       "    </tr>\n",
       "  </thead>\n",
       "  <tbody>\n",
       "    <tr>\n",
       "      <td>1985</td>\n",
       "      <td>11.826198</td>\n",
       "      <td>6091.229167</td>\n",
       "    </tr>\n",
       "    <tr>\n",
       "      <td>1986</td>\n",
       "      <td>11.423333</td>\n",
       "      <td>7126.104167</td>\n",
       "    </tr>\n",
       "    <tr>\n",
       "      <td>1987</td>\n",
       "      <td>11.644213</td>\n",
       "      <td>8712.592593</td>\n",
       "    </tr>\n",
       "    <tr>\n",
       "      <td>1988</td>\n",
       "      <td>12.709405</td>\n",
       "      <td>9983.857143</td>\n",
       "    </tr>\n",
       "    <tr>\n",
       "      <td>1989</td>\n",
       "      <td>12.879071</td>\n",
       "      <td>9725.038462</td>\n",
       "    </tr>\n",
       "  </tbody>\n",
       "</table>\n",
       "</div>"
      ],
      "text/plain": [
       "      suicides_rate  gdp_per_capita_in_dollars\n",
       "year                                          \n",
       "1985      11.826198                6091.229167\n",
       "1986      11.423333                7126.104167\n",
       "1987      11.644213                8712.592593\n",
       "1988      12.709405                9983.857143\n",
       "1989      12.879071                9725.038462"
      ]
     },
     "execution_count": 451,
     "metadata": {},
     "output_type": "execute_result"
    }
   ],
   "source": [
    "combine_df = pd.concat([sr, gdp], sort = True, axis=1)\n",
    "combine_df.head()"
   ]
  },
  {
   "cell_type": "code",
   "execution_count": 462,
   "metadata": {},
   "outputs": [
    {
     "data": {
      "image/png": "[encoded data removed]",
      "text/plain": [
       "<Figure size 360x360 with 2 Axes>"
      ]
     },
     "metadata": {
      "needs_background": "light"
     },
     "output_type": "display_data"
    }
   ],
   "source": [
    "fig = plt.figure(figsize = (5, 5))\n",
    "ax = fig.add_subplot(111)\n",
    "ax2 = ax.twinx()\n",
    "\n",
    "combine_df.suicides_rate.plot(kind='bar', color='green', ax=ax, width=0.5, position=1)\n",
    "combine_df.gdp_per_capita_in_dollars.plot(kind='bar', color='blue', ax=ax2, width=0.5, position=0)\n",
    "\n",
    "ax.set_ylabel('suicide rate')\n",
    "ax2.set_ylabel('GDP per Capita ($)')\n",
    "\n",
    "plt.show()"
   ]
  },
  {
   "cell_type": "markdown",
   "metadata": {},
   "source": [
    "From this graph, we can observe that as the GDP per Capita is inversely proportional to the Suicide Rate. It is recommended for further analysis. "
   ]
  }
 ],
 "metadata": {
  "kernelspec": {
   "display_name": "Python 3",
   "language": "python",
   "name": "python3"
  },
  "language_info": {
   "codemirror_mode": {
    "name": "ipython",
    "version": 3
   },
   "file_extension": ".py",
   "mimetype": "text/x-python",
   "name": "python",
   "nbconvert_exporter": "python",
   "pygments_lexer": "ipython3",
   "version": "3.7.4"
  }
 },
 "nbformat": 4,
 "nbformat_minor": 2
}
